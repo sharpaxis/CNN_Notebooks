{
 "cells": [
  {
   "cell_type": "code",
   "execution_count": 1,
   "id": "6aaa9eb0",
   "metadata": {},
   "outputs": [],
   "source": [
    "#basic imports\n",
    "import numpy as np\n",
    "import pandas as pd\n",
    "import seaborn as sns\n",
    "import matplotlib.pyplot as plt\n",
    "import torch\n",
    "import torch.nn as nn\n",
    "import torch.nn.functional as F\n",
    "from torch.utils.data import Dataset,DataLoader\n",
    "from torchvision import transforms,datasets\n",
    "from torchvision.utils import make_grid\n",
    "device = torch.device(\"mps\")\n",
    "import warnings\n",
    "warnings.filterwarnings('ignore')\n",
    "from torchinfo import summary"
   ]
  },
  {
   "cell_type": "code",
   "execution_count": 2,
   "id": "452eecd7",
   "metadata": {},
   "outputs": [],
   "source": [
    "#load dataset\n",
    "#apply to Tensor transform in dataset\n",
    "transform = transforms.ToTensor()\n",
    "train_ds = datasets.FashionMNIST(root='/Users/aadityajoshi/Downloads/KD',transform=transform,train=True,download=True)\n",
    "test_ds = datasets.FashionMNIST(root='/Users/aadityajoshi/Downloads/KD',transform=transform,train=False,download=True)"
   ]
  },
  {
   "cell_type": "code",
   "execution_count": 3,
   "id": "8f6cc80f",
   "metadata": {},
   "outputs": [
    {
     "data": {
      "text/plain": [
       "torch.Size([1, 28, 28])"
      ]
     },
     "execution_count": 3,
     "metadata": {},
     "output_type": "execute_result"
    }
   ],
   "source": [
    "#size of image\n",
    "train_ds[0][0].shape"
   ]
  },
  {
   "cell_type": "code",
   "execution_count": 41,
   "id": "634e3fbc",
   "metadata": {},
   "outputs": [],
   "source": [
    "#loader\n",
    "train_loader = DataLoader(train_ds,batch_size=32,shuffle=False)\n",
    "test_loader = DataLoader(test_ds,batch_size=32,shuffle=False)"
   ]
  },
  {
   "cell_type": "code",
   "execution_count": 5,
   "id": "f8b10ca2",
   "metadata": {},
   "outputs": [
    {
     "data": {
      "text/plain": [
       "<matplotlib.image.AxesImage at 0x164b4d2d0>"
      ]
     },
     "execution_count": 5,
     "metadata": {},
     "output_type": "execute_result"
    },
    {
     "data": {
      "image/png": "[encoded data removed]",
      "text/plain": [
       "<Figure size 640x480 with 1 Axes>"
      ]
     },
     "metadata": {},
     "output_type": "display_data"
    }
   ],
   "source": [
    "#visualize\n",
    "plt.imshow(train_ds[0][0].numpy().reshape(28,28))"
   ]
  },
  {
   "cell_type": "markdown",
   "id": "8a2888c1",
   "metadata": {},
   "source": [
    "### Func for dimension calc"
   ]
  },
  {
   "cell_type": "code",
   "execution_count": 6,
   "id": "27282e99",
   "metadata": {},
   "outputs": [],
   "source": [
    "def dim_calc(n_in,w_in,h_in,f,s,p,num_filters,max_pool,ms,mf):\n",
    "    \"\"\"Input : In_channels, Width_in, Height_in, Filter_size, Maxpool (Bool) , Maxpool stride and Filter size\n",
    "    Output :Dimensions After Conv layer \"\"\"\n",
    "    #(height,widht)\n",
    "    \n",
    "    if type(s) == tuple: #(2,1)\n",
    "        s_h = s[0]\n",
    "        s_w = s[1]\n",
    "    else:\n",
    "        s_h,s_w = s,s\n",
    "    if type(f) == tuple:\n",
    "        f_h = f[0]\n",
    "        f_w = f[1]\n",
    "    else:\n",
    "        f_h,f_w = f,f\n",
    "    if type(p) == tuple:\n",
    "        p_h = p[0]\n",
    "        p_w = p[1]\n",
    "    else:\n",
    "        p_h,p_w = p,p\n",
    "        \n",
    "    height = ((h_in-f_h+2*p_h)//s_h)+1\n",
    "    width = ((w_in-f_w+2*p_w)//s_w)+1\n",
    "    channels = num_filters\n",
    "    if max_pool == True:\n",
    "        height = ((height-mf)//ms)+1\n",
    "        width = ((width-mf)//ms)+1\n",
    "    return (channels,height,width)"
   ]
  },
  {
   "cell_type": "markdown",
   "id": "b92f1e84",
   "metadata": {},
   "source": [
    "### create models"
   ]
  },
  {
   "cell_type": "markdown",
   "id": "efbf7a11",
   "metadata": {},
   "source": [
    "### LeNet insp model"
   ]
  },
  {
   "cell_type": "code",
   "execution_count": 7,
   "id": "d039c11d",
   "metadata": {},
   "outputs": [],
   "source": [
    "class Lenet(nn.Module):\n",
    "    def __init__(self):\n",
    "        super(Lenet,self).__init__()\n",
    "        #conv1 6 filters\n",
    "        self.conv1 = nn.Conv2d(in_channels=1,out_channels=6,kernel_size=3,stride=1)\n",
    "        #conv2 16 filters\n",
    "        self.conv2 = nn.Conv2d(in_channels=6,out_channels=16,kernel_size=3,stride=1)\n",
    "        #first fully connected layer\n",
    "        self.fc1 = nn.Linear(in_features=400,out_features=128)\n",
    "        #second fully connected layer\n",
    "        self.fc2 = nn.Linear(in_features=128,out_features=32)\n",
    "        #third fully connected layer\n",
    "        self.fc3 = nn.Linear(in_features=32,out_features=10)\n",
    "    def forward(self,x):\n",
    "        #activation function + conv\n",
    "        x = F.relu(self.conv1(x))\n",
    "        x = F.max_pool2d(x,2,2)\n",
    "        x = F.relu(self.conv2(x))\n",
    "        x = F.max_pool2d(x,2,2)\n",
    "        x = x.view(-1,400)\n",
    "        x = F.relu(self.fc1(x))\n",
    "        x = F.relu(self.fc2(x))\n",
    "        x = self.fc3(x)\n",
    "        return F.log_softmax(x,dim=1)"
   ]
  },
  {
   "cell_type": "code",
   "execution_count": 8,
   "id": "c88a2c44",
   "metadata": {},
   "outputs": [
    {
     "name": "stdout",
     "output_type": "stream",
     "text": [
      "1 : (6, 13, 13)\n",
      "2 : (16, 5, 5)\n",
      "400\n"
     ]
    }
   ],
   "source": [
    "print(f\"1 : {dim_calc(1,28,28,3,1,0,6,True,2,2)}\")\n",
    "print(f\"2 : {dim_calc(6,13,13,3,1,0,16,True,2,2)}\")\n",
    "print(16*5*5)"
   ]
  },
  {
   "cell_type": "markdown",
   "id": "38844d19",
   "metadata": {},
   "source": [
    "### reduced model precision for lesser memory usage"
   ]
  },
  {
   "cell_type": "code",
   "execution_count": 9,
   "id": "4341379b",
   "metadata": {},
   "outputs": [],
   "source": [
    "lenet = Lenet().to(torch.bfloat16).to(device)"
   ]
  },
  {
   "cell_type": "code",
   "execution_count": 10,
   "id": "5215c1aa",
   "metadata": {},
   "outputs": [
    {
     "data": {
      "text/plain": [
       "Lenet(\n",
       "  (conv1): Conv2d(1, 6, kernel_size=(3, 3), stride=(1, 1))\n",
       "  (conv2): Conv2d(6, 16, kernel_size=(3, 3), stride=(1, 1))\n",
       "  (fc1): Linear(in_features=400, out_features=128, bias=True)\n",
       "  (fc2): Linear(in_features=128, out_features=32, bias=True)\n",
       "  (fc3): Linear(in_features=32, out_features=10, bias=True)\n",
       ")"
      ]
     },
     "execution_count": 10,
     "metadata": {},
     "output_type": "execute_result"
    }
   ],
   "source": [
    "lenet"
   ]
  },
  {
   "cell_type": "code",
   "execution_count": 11,
   "id": "f2b1d5c2",
   "metadata": {},
   "outputs": [
    {
     "name": "stdout",
     "output_type": "stream",
     "text": [
      "54\n",
      "6\n",
      "864\n",
      "16\n",
      "51200\n",
      "128\n",
      "4096\n",
      "32\n",
      "320\n",
      "10\n",
      "Total Parameters : 56726\n"
     ]
    }
   ],
   "source": [
    "params = [p.numel() for p in lenet.parameters() if p.requires_grad]\n",
    "for p in params:\n",
    "    print(p)\n",
    "print(f\"Total Parameters : {sum(params)}\")"
   ]
  },
  {
   "cell_type": "markdown",
   "id": "f516fcba",
   "metadata": {},
   "source": [
    "### training"
   ]
  },
  {
   "cell_type": "code",
   "execution_count": 12,
   "id": "fc1dee26",
   "metadata": {},
   "outputs": [],
   "source": [
    "criterion = nn.CrossEntropyLoss()\n",
    "optimizer = torch.optim.Adam(lenet.parameters(),lr=0.001)\n",
    "num_epochs = 10"
   ]
  },
  {
   "cell_type": "code",
   "execution_count": 13,
   "id": "d443d2b5",
   "metadata": {},
   "outputs": [
    {
     "name": "stderr",
     "output_type": "stream",
     "text": [
      "Epoch 1/10: 100%|█████████████| 1875/1875 [00:09<00:00, 201.51it/s, loss=0.4629]\n"
     ]
    },
    {
     "name": "stdout",
     "output_type": "stream",
     "text": [
      "Epoch 1/10, Average Loss: 0.6710\n"
     ]
    },
    {
     "name": "stderr",
     "output_type": "stream",
     "text": [
      "Epoch 2/10: 100%|█████████████| 1875/1875 [00:08<00:00, 208.55it/s, loss=0.2793]\n"
     ]
    },
    {
     "name": "stdout",
     "output_type": "stream",
     "text": [
      "Epoch 2/10, Average Loss: 0.4992\n"
     ]
    },
    {
     "name": "stderr",
     "output_type": "stream",
     "text": [
      "Epoch 3/10: 100%|█████████████| 1875/1875 [00:09<00:00, 208.29it/s, loss=0.4414]\n"
     ]
    },
    {
     "name": "stdout",
     "output_type": "stream",
     "text": [
      "Epoch 3/10, Average Loss: 0.4571\n"
     ]
    },
    {
     "name": "stderr",
     "output_type": "stream",
     "text": [
      "Epoch 4/10: 100%|█████████████| 1875/1875 [00:08<00:00, 208.67it/s, loss=0.3008]\n"
     ]
    },
    {
     "name": "stdout",
     "output_type": "stream",
     "text": [
      "Epoch 4/10, Average Loss: 0.4347\n"
     ]
    },
    {
     "name": "stderr",
     "output_type": "stream",
     "text": [
      "Epoch 5/10: 100%|█████████████| 1875/1875 [00:09<00:00, 208.25it/s, loss=0.3047]\n"
     ]
    },
    {
     "name": "stdout",
     "output_type": "stream",
     "text": [
      "Epoch 5/10, Average Loss: 0.4204\n"
     ]
    },
    {
     "name": "stderr",
     "output_type": "stream",
     "text": [
      "Epoch 6/10: 100%|█████████████| 1875/1875 [00:09<00:00, 195.50it/s, loss=0.2969]\n"
     ]
    },
    {
     "name": "stdout",
     "output_type": "stream",
     "text": [
      "Epoch 6/10, Average Loss: 0.4073\n"
     ]
    },
    {
     "name": "stderr",
     "output_type": "stream",
     "text": [
      "Epoch 7/10: 100%|█████████████| 1875/1875 [00:09<00:00, 207.14it/s, loss=0.2188]\n"
     ]
    },
    {
     "name": "stdout",
     "output_type": "stream",
     "text": [
      "Epoch 7/10, Average Loss: 0.4014\n"
     ]
    },
    {
     "name": "stderr",
     "output_type": "stream",
     "text": [
      "Epoch 8/10: 100%|█████████████| 1875/1875 [00:08<00:00, 221.62it/s, loss=0.4414]\n"
     ]
    },
    {
     "name": "stdout",
     "output_type": "stream",
     "text": [
      "Epoch 8/10, Average Loss: 0.3953\n"
     ]
    },
    {
     "name": "stderr",
     "output_type": "stream",
     "text": [
      "Epoch 9/10: 100%|█████████████| 1875/1875 [00:08<00:00, 217.04it/s, loss=0.3887]\n"
     ]
    },
    {
     "name": "stdout",
     "output_type": "stream",
     "text": [
      "Epoch 9/10, Average Loss: 0.3888\n"
     ]
    },
    {
     "name": "stderr",
     "output_type": "stream",
     "text": [
      "Epoch 10/10: 100%|████████████| 1875/1875 [00:10<00:00, 185.49it/s, loss=0.3984]"
     ]
    },
    {
     "name": "stdout",
     "output_type": "stream",
     "text": [
      "Epoch 10/10, Average Loss: 0.3851\n",
      "Total training time: 1.52 minutes\n"
     ]
    },
    {
     "name": "stderr",
     "output_type": "stream",
     "text": [
      "\n"
     ]
    }
   ],
   "source": [
    "import time\n",
    "from tqdm import tqdm\n",
    "start = time.time()\n",
    "for epoch in range(num_epochs):\n",
    "    pbar = tqdm(train_loader, desc=f\"Epoch {epoch+1}/{num_epochs}\")\n",
    "    total_loss = 0\n",
    "    lenet.train()\n",
    "    for data,label in pbar:\n",
    "        data,label = data.to(torch.bfloat16).to(device),label.to(device)\n",
    "        y_pred = lenet.forward(data)\n",
    "        loss = criterion(y_pred,label)\n",
    "        optimizer.zero_grad()\n",
    "        loss.backward()\n",
    "        optimizer.step()\n",
    "        total_loss += loss.item()\n",
    "        pbar.set_postfix({'loss': f'{loss.item():.4f}'})\n",
    "    avg_loss = total_loss / len(train_loader)\n",
    "    print(f\"Epoch {epoch+1}/{num_epochs}, Average Loss: {avg_loss:.4f}\")\n",
    "\n",
    "print(f\"Total training time: {(time.time() - start) / 60:.2f} minutes\")"
   ]
  },
  {
   "cell_type": "code",
   "execution_count": 14,
   "id": "12309e21",
   "metadata": {},
   "outputs": [
    {
     "name": "stdout",
     "output_type": "stream",
     "text": [
      "              precision    recall  f1-score   support\n",
      "\n",
      "           0       0.78      0.85      0.81      1000\n",
      "           1       0.99      0.95      0.97      1000\n",
      "           2       0.73      0.81      0.77      1000\n",
      "           3       0.85      0.89      0.86      1000\n",
      "           4       0.73      0.78      0.76      1000\n",
      "           5       0.96      0.95      0.95      1000\n",
      "           6       0.67      0.47      0.55      1000\n",
      "           7       0.91      0.94      0.93      1000\n",
      "           8       0.94      0.96      0.95      1000\n",
      "           9       0.95      0.94      0.95      1000\n",
      "\n",
      "    accuracy                           0.85     10000\n",
      "   macro avg       0.85      0.85      0.85     10000\n",
      "weighted avg       0.85      0.85      0.85     10000\n",
      "\n"
     ]
    }
   ],
   "source": [
    "from sklearn.metrics import classification_report\n",
    "all_preds = []\n",
    "all_labels = []\n",
    "  \n",
    "lenet.eval()\n",
    "with torch.no_grad():\n",
    "    for data, label in test_loader:\n",
    "        data,label = data.to(torch.bfloat16).to(device),label.to(device)\n",
    "        pred = lenet(data)\n",
    "        pred = torch.argmax(pred, dim=1)\n",
    "        \n",
    "        # Collect predictions and labels\n",
    "        all_preds.extend(pred.cpu().numpy())\n",
    "        all_labels.extend(label.cpu().numpy())\n",
    "\n",
    "# Now, use classification_report with the collected predictions and labels\n",
    "print(classification_report(all_labels, all_preds))"
   ]
  },
  {
   "cell_type": "code",
   "execution_count": 15,
   "id": "7bf666fb",
   "metadata": {},
   "outputs": [],
   "source": [
    "x = torch.randint(low=0,high=10,size=(10,1),dtype=torch.float32)"
   ]
  },
  {
   "cell_type": "code",
   "execution_count": 16,
   "id": "fdf82fe1",
   "metadata": {},
   "outputs": [
    {
     "data": {
      "text/plain": [
       "tensor([[3.],\n",
       "        [3.],\n",
       "        [2.],\n",
       "        [9.],\n",
       "        [2.],\n",
       "        [6.],\n",
       "        [6.],\n",
       "        [6.],\n",
       "        [9.],\n",
       "        [7.]])"
      ]
     },
     "execution_count": 16,
     "metadata": {},
     "output_type": "execute_result"
    }
   ],
   "source": [
    "x"
   ]
  },
  {
   "cell_type": "code",
   "execution_count": 17,
   "id": "d92a6afa",
   "metadata": {},
   "outputs": [],
   "source": [
    "#temp\n",
    "x_s = F.log_softmax(x,dim=0)\n",
    "x_s_2 = F.log_softmax(x/2,dim=0)\n",
    "x_s_3 = F.log_softmax(x/3,dim=0)\n",
    "x_s_4 = F.log_softmax(x/4,dim=0)"
   ]
  },
  {
   "cell_type": "code",
   "execution_count": 18,
   "id": "b7926944",
   "metadata": {},
   "outputs": [
    {
     "data": {
      "text/plain": [
       "tensor(2.6687)"
      ]
     },
     "execution_count": 18,
     "metadata": {},
     "output_type": "execute_result"
    }
   ],
   "source": [
    "x_s.std()"
   ]
  },
  {
   "cell_type": "code",
   "execution_count": 19,
   "id": "0a8aa6db",
   "metadata": {},
   "outputs": [
    {
     "data": {
      "text/plain": [
       "tensor(1.3344)"
      ]
     },
     "execution_count": 19,
     "metadata": {},
     "output_type": "execute_result"
    }
   ],
   "source": [
    "x_s_2.std()"
   ]
  },
  {
   "cell_type": "code",
   "execution_count": 20,
   "id": "74c31ffb",
   "metadata": {},
   "outputs": [
    {
     "data": {
      "text/plain": [
       "tensor(0.8896)"
      ]
     },
     "execution_count": 20,
     "metadata": {},
     "output_type": "execute_result"
    }
   ],
   "source": [
    "x_s_3.std()"
   ]
  },
  {
   "cell_type": "code",
   "execution_count": 21,
   "id": "79f805e3",
   "metadata": {},
   "outputs": [
    {
     "data": {
      "text/plain": [
       "tensor(0.6672)"
      ]
     },
     "execution_count": 21,
     "metadata": {},
     "output_type": "execute_result"
    }
   ],
   "source": [
    "x_s_4.std()"
   ]
  },
  {
   "cell_type": "code",
   "execution_count": 22,
   "id": "d6e783d7",
   "metadata": {},
   "outputs": [
    {
     "data": {
      "text/plain": [
       "tensor([[-6.8292],\n",
       "        [-6.8292],\n",
       "        [-7.8292],\n",
       "        [-0.8292],\n",
       "        [-7.8292],\n",
       "        [-3.8292],\n",
       "        [-3.8292],\n",
       "        [-3.8292],\n",
       "        [-0.8292],\n",
       "        [-2.8292]])"
      ]
     },
     "execution_count": 22,
     "metadata": {},
     "output_type": "execute_result"
    }
   ],
   "source": [
    "x_s"
   ]
  },
  {
   "cell_type": "code",
   "execution_count": 23,
   "id": "762b98f1",
   "metadata": {},
   "outputs": [
    {
     "data": {
      "text/plain": [
       "tensor([[-3.0722],\n",
       "        [-3.0722],\n",
       "        [-3.3222],\n",
       "        [-1.5722],\n",
       "        [-3.3222],\n",
       "        [-2.3222],\n",
       "        [-2.3222],\n",
       "        [-2.3222],\n",
       "        [-1.5722],\n",
       "        [-2.0722]])"
      ]
     },
     "execution_count": 23,
     "metadata": {},
     "output_type": "execute_result"
    }
   ],
   "source": [
    "#values are less sharp with \n",
    "x_s_4"
   ]
  },
  {
   "cell_type": "markdown",
   "id": "2e11f239",
   "metadata": {},
   "source": [
    "### VGG based model"
   ]
  },
  {
   "cell_type": "code",
   "execution_count": 24,
   "id": "1c9d0184",
   "metadata": {},
   "outputs": [],
   "source": [
    "class VGG(nn.Module):\n",
    "    def __init__(self):\n",
    "        super(VGG,self).__init__()\n",
    "        self.conv1 = nn.Conv2d(in_channels=1,out_channels=16,kernel_size=3,stride=1,padding=1)\n",
    "        self.conv2 = nn.Conv2d(in_channels=16,out_channels=32,kernel_size=3,stride=1,padding=1)\n",
    "        self.conv3 = nn.Conv2d(in_channels=32,out_channels=64,kernel_size=3,stride=1,padding=1)\n",
    "        self.fc1 = nn.Linear(in_features=576,out_features=288)\n",
    "        self.fc2 = nn.Linear(in_features=288,out_features=144)\n",
    "        self.fc3 = nn.Linear(in_features=144,out_features=72)\n",
    "        self.fc4 = nn.Linear(in_features=72,out_features=36)\n",
    "        self.out = nn.Linear(in_features=36,out_features=10)\n",
    "    def forward(self,x):\n",
    "        #activation function + conv\n",
    "        x = F.relu(self.conv1(x))\n",
    "        x = F.max_pool2d(x,2,2)\n",
    "        x = F.relu(self.conv2(x))\n",
    "        x = F.max_pool2d(x,2,2)\n",
    "        x = F.relu(self.conv3(x))\n",
    "        x = F.max_pool2d(x,2,2)\n",
    "        x = x.view(-1,576)\n",
    "        x = F.relu(self.fc1(x))\n",
    "        x = F.relu(self.fc2(x))\n",
    "        x = F.relu(self.fc3(x))\n",
    "        x = F.relu(self.fc4(x))\n",
    "        x = self.out(x)\n",
    "        return F.log_softmax(x,dim=1)"
   ]
  },
  {
   "cell_type": "code",
   "execution_count": 25,
   "id": "8f49c673",
   "metadata": {},
   "outputs": [
    {
     "name": "stdout",
     "output_type": "stream",
     "text": [
      "1 : (8, 15, 15)\n",
      "2 : (16, 7, 7)\n",
      "3 : (32, 3, 3)\n",
      "576\n"
     ]
    }
   ],
   "source": [
    "print(f\"1 : {dim_calc(1,28,28,3,1,(2,2),8,True,2,2)}\")\n",
    "print(f\"2 : {dim_calc(8,13,13,3,1,(2,2),16,True,2,2)}\")\n",
    "print(f\"3 : {dim_calc(16,5,5,3,1,(2,2),32,True,2,2)}\")\n",
    "print(64*3*3)"
   ]
  },
  {
   "cell_type": "code",
   "execution_count": 26,
   "id": "208255e9",
   "metadata": {},
   "outputs": [],
   "source": [
    "vgg = VGG().to(device)"
   ]
  },
  {
   "cell_type": "code",
   "execution_count": 27,
   "id": "28857bed",
   "metadata": {},
   "outputs": [
    {
     "data": {
      "text/plain": [
       "VGG(\n",
       "  (conv1): Conv2d(1, 16, kernel_size=(3, 3), stride=(1, 1), padding=(1, 1))\n",
       "  (conv2): Conv2d(16, 32, kernel_size=(3, 3), stride=(1, 1), padding=(1, 1))\n",
       "  (conv3): Conv2d(32, 64, kernel_size=(3, 3), stride=(1, 1), padding=(1, 1))\n",
       "  (fc1): Linear(in_features=576, out_features=288, bias=True)\n",
       "  (fc2): Linear(in_features=288, out_features=144, bias=True)\n",
       "  (fc3): Linear(in_features=144, out_features=72, bias=True)\n",
       "  (fc4): Linear(in_features=72, out_features=36, bias=True)\n",
       "  (out): Linear(in_features=36, out_features=10, bias=True)\n",
       ")"
      ]
     },
     "execution_count": 27,
     "metadata": {},
     "output_type": "execute_result"
    }
   ],
   "source": [
    "vgg"
   ]
  },
  {
   "cell_type": "code",
   "execution_count": 28,
   "id": "501e20d6",
   "metadata": {},
   "outputs": [
    {
     "name": "stdout",
     "output_type": "stream",
     "text": [
      "144\n",
      "16\n",
      "4608\n",
      "32\n",
      "18432\n",
      "64\n",
      "165888\n",
      "288\n",
      "41472\n",
      "144\n",
      "10368\n",
      "72\n",
      "2592\n",
      "36\n",
      "360\n",
      "10\n",
      "Total Parameters : 244526\n"
     ]
    }
   ],
   "source": [
    "params = [p.numel() for p in vgg.parameters() if p.requires_grad]\n",
    "for p in params:\n",
    "    print(p)\n",
    "print(f\"Total Parameters : {sum(params)}\")"
   ]
  },
  {
   "cell_type": "code",
   "execution_count": 29,
   "id": "dd4bc1e8",
   "metadata": {},
   "outputs": [
    {
     "data": {
      "text/plain": [
       "=================================================================\n",
       "Layer (type:depth-idx)                   Param #\n",
       "=================================================================\n",
       "VGG                                      --\n",
       "├─Conv2d: 1-1                            160\n",
       "├─Conv2d: 1-2                            4,640\n",
       "├─Conv2d: 1-3                            18,496\n",
       "├─Linear: 1-4                            166,176\n",
       "├─Linear: 1-5                            41,616\n",
       "├─Linear: 1-6                            10,440\n",
       "├─Linear: 1-7                            2,628\n",
       "├─Linear: 1-8                            370\n",
       "=================================================================\n",
       "Total params: 244,526\n",
       "Trainable params: 244,526\n",
       "Non-trainable params: 0\n",
       "================================================================="
      ]
     },
     "execution_count": 29,
     "metadata": {},
     "output_type": "execute_result"
    }
   ],
   "source": [
    "summary(vgg)"
   ]
  },
  {
   "cell_type": "code",
   "execution_count": 30,
   "id": "ac762936",
   "metadata": {},
   "outputs": [
    {
     "name": "stdout",
     "output_type": "stream",
     "text": [
      "Lenet size: 0.1082 MB\n",
      "Vgg size: 0.9328 MB\n"
     ]
    }
   ],
   "source": [
    "import torch\n",
    "\n",
    "def get_model_size(model, dtype=torch.bfloat16):\n",
    "    total_params = sum(p.numel() for p in model.parameters())  \n",
    "    total_buffers = sum(b.numel() for b in model.buffers())  \n",
    "    total_elements = total_params + total_buffers  \n",
    "    dtype_size = torch.finfo(dtype).bits // 8  # Get dtype size in bytes\n",
    "    memory_size = total_elements * dtype_size  \n",
    "    return memory_size / (1024 ** 2)  # Convert to MB\n",
    "\n",
    "# Example usage with a sample model\n",
    "print(f\"Lenet size: {get_model_size(lenet, torch.bfloat16):.4f} MB\")\n",
    "print(f\"Vgg size: {get_model_size(vgg, torch.float32):.4f} MB\")"
   ]
  },
  {
   "cell_type": "code",
   "execution_count": 31,
   "id": "cd466c19",
   "metadata": {},
   "outputs": [],
   "source": [
    "criterion = nn.CrossEntropyLoss()\n",
    "optimizer = torch.optim.Adam(vgg.parameters(),lr=0.001)\n",
    "num_epochs = 10"
   ]
  },
  {
   "cell_type": "code",
   "execution_count": 32,
   "id": "ce42ab94",
   "metadata": {},
   "outputs": [
    {
     "name": "stderr",
     "output_type": "stream",
     "text": [
      "Epoch 1/10: 100%|█████████████| 1875/1875 [00:13<00:00, 136.05it/s, loss=0.2291]\n"
     ]
    },
    {
     "name": "stdout",
     "output_type": "stream",
     "text": [
      "Epoch 1/10, Average Loss: 0.6312\n"
     ]
    },
    {
     "name": "stderr",
     "output_type": "stream",
     "text": [
      "Epoch 2/10: 100%|█████████████| 1875/1875 [00:12<00:00, 154.30it/s, loss=0.1785]\n"
     ]
    },
    {
     "name": "stdout",
     "output_type": "stream",
     "text": [
      "Epoch 2/10, Average Loss: 0.3652\n"
     ]
    },
    {
     "name": "stderr",
     "output_type": "stream",
     "text": [
      "Epoch 3/10: 100%|█████████████| 1875/1875 [00:11<00:00, 168.08it/s, loss=0.4567]\n"
     ]
    },
    {
     "name": "stdout",
     "output_type": "stream",
     "text": [
      "Epoch 3/10, Average Loss: 0.3031\n"
     ]
    },
    {
     "name": "stderr",
     "output_type": "stream",
     "text": [
      "Epoch 4/10: 100%|█████████████| 1875/1875 [00:11<00:00, 167.95it/s, loss=0.2926]\n"
     ]
    },
    {
     "name": "stdout",
     "output_type": "stream",
     "text": [
      "Epoch 4/10, Average Loss: 0.2679\n"
     ]
    },
    {
     "name": "stderr",
     "output_type": "stream",
     "text": [
      "Epoch 5/10: 100%|█████████████| 1875/1875 [00:11<00:00, 168.96it/s, loss=0.1598]\n"
     ]
    },
    {
     "name": "stdout",
     "output_type": "stream",
     "text": [
      "Epoch 5/10, Average Loss: 0.2405\n"
     ]
    },
    {
     "name": "stderr",
     "output_type": "stream",
     "text": [
      "Epoch 6/10: 100%|█████████████| 1875/1875 [00:10<00:00, 174.12it/s, loss=0.1418]\n"
     ]
    },
    {
     "name": "stdout",
     "output_type": "stream",
     "text": [
      "Epoch 6/10, Average Loss: 0.2207\n"
     ]
    },
    {
     "name": "stderr",
     "output_type": "stream",
     "text": [
      "Epoch 7/10: 100%|█████████████| 1875/1875 [00:11<00:00, 162.17it/s, loss=0.4373]\n"
     ]
    },
    {
     "name": "stdout",
     "output_type": "stream",
     "text": [
      "Epoch 7/10, Average Loss: 0.2024\n"
     ]
    },
    {
     "name": "stderr",
     "output_type": "stream",
     "text": [
      "Epoch 8/10: 100%|█████████████| 1875/1875 [00:13<00:00, 140.33it/s, loss=0.1608]\n"
     ]
    },
    {
     "name": "stdout",
     "output_type": "stream",
     "text": [
      "Epoch 8/10, Average Loss: 0.1874\n"
     ]
    },
    {
     "name": "stderr",
     "output_type": "stream",
     "text": [
      "Epoch 9/10: 100%|█████████████| 1875/1875 [00:12<00:00, 148.17it/s, loss=0.2569]\n"
     ]
    },
    {
     "name": "stdout",
     "output_type": "stream",
     "text": [
      "Epoch 9/10, Average Loss: 0.1738\n"
     ]
    },
    {
     "name": "stderr",
     "output_type": "stream",
     "text": [
      "Epoch 10/10: 100%|████████████| 1875/1875 [00:12<00:00, 151.77it/s, loss=0.1021]"
     ]
    },
    {
     "name": "stdout",
     "output_type": "stream",
     "text": [
      "Epoch 10/10, Average Loss: 0.1584\n",
      "Total training time: 2.00 minutes\n"
     ]
    },
    {
     "name": "stderr",
     "output_type": "stream",
     "text": [
      "\n"
     ]
    }
   ],
   "source": [
    "start = time.time()\n",
    "for epoch in range(num_epochs):\n",
    "    pbar = tqdm(train_loader, desc=f\"Epoch {epoch+1}/{num_epochs}\")\n",
    "    total_loss = 0\n",
    "    vgg.train()\n",
    "    for data,label in pbar:\n",
    "        data,label = data.to(device),label.to(device)\n",
    "        y_pred = vgg.forward(data)\n",
    "        loss = criterion(y_pred,label)\n",
    "        optimizer.zero_grad()\n",
    "        loss.backward()\n",
    "        optimizer.step()\n",
    "        total_loss += loss.item()\n",
    "        pbar.set_postfix({'loss': f'{loss.item():.4f}'})\n",
    "    avg_loss = total_loss / len(train_loader)\n",
    "    print(f\"Epoch {epoch+1}/{num_epochs}, Average Loss: {avg_loss:.4f}\")\n",
    "\n",
    "print(f\"Total training time: {(time.time() - start) / 60:.2f} minutes\")"
   ]
  },
  {
   "cell_type": "code",
   "execution_count": 33,
   "id": "23758404",
   "metadata": {},
   "outputs": [
    {
     "name": "stdout",
     "output_type": "stream",
     "text": [
      "              precision    recall  f1-score   support\n",
      "\n",
      "           0       0.89      0.82      0.85      1000\n",
      "           1       0.99      0.99      0.99      1000\n",
      "           2       0.83      0.91      0.87      1000\n",
      "           3       0.93      0.88      0.90      1000\n",
      "           4       0.82      0.90      0.86      1000\n",
      "           5       0.98      0.98      0.98      1000\n",
      "           6       0.77      0.73      0.75      1000\n",
      "           7       0.97      0.96      0.96      1000\n",
      "           8       0.98      0.98      0.98      1000\n",
      "           9       0.96      0.97      0.97      1000\n",
      "\n",
      "    accuracy                           0.91     10000\n",
      "   macro avg       0.91      0.91      0.91     10000\n",
      "weighted avg       0.91      0.91      0.91     10000\n",
      "\n"
     ]
    }
   ],
   "source": [
    "from sklearn.metrics import classification_report\n",
    "all_preds = []\n",
    "all_labels = []\n",
    "  \n",
    "vgg.eval()\n",
    "with torch.no_grad():\n",
    "    for data, label in test_loader:\n",
    "        data,label = data.to(device),label.to(device)\n",
    "        pred = vgg(data)\n",
    "        pred = torch.argmax(pred, dim=1)\n",
    "        \n",
    "        # Collect predictions and labels\n",
    "        all_preds.extend(pred.cpu().numpy())\n",
    "        all_labels.extend(label.cpu().numpy())\n",
    "\n",
    "# Now, use classification_report with the collected predictions and labels\n",
    "print(classification_report(all_labels, all_preds))"
   ]
  },
  {
   "cell_type": "markdown",
   "id": "bb387bd0",
   "metadata": {},
   "source": [
    "### creating label for  student model"
   ]
  },
  {
   "cell_type": "code",
   "execution_count": 42,
   "id": "424a8742",
   "metadata": {},
   "outputs": [],
   "source": [
    "label_list = []\n",
    "for x,y in train_loader:\n",
    "    x,y = x.to(device),y.to(device)\n",
    "    y_pred = vgg.forward(x)\n",
    "    label_list.append(y_pred)"
   ]
  },
  {
   "cell_type": "code",
   "execution_count": 44,
   "id": "63c12f5b",
   "metadata": {},
   "outputs": [
    {
     "name": "stderr",
     "output_type": "stream",
     "text": [
      "Epoch 1/10:   0%|             | 1/1875 [00:00<11:24,  2.74it/s, loss=-1769.8129]\n"
     ]
    },
    {
     "ename": "RuntimeError",
     "evalue": "one of the variables needed for gradient computation has been modified by an inplace operation: [MPSFloatType [10, 36]] is at version 18752; expected version 18751 instead. Hint: enable anomaly detection to find the operation that failed to compute its gradient, with torch.autograd.set_detect_anomaly(True).",
     "output_type": "error",
     "traceback": [
      "\u001b[0;31m---------------------------------------------------------------------------\u001b[0m",
      "\u001b[0;31mRuntimeError\u001b[0m                              Traceback (most recent call last)",
      "Cell \u001b[0;32mIn[44], line 15\u001b[0m\n\u001b[1;32m     13\u001b[0m loss \u001b[38;5;241m=\u001b[39m criterion(y_pred,label_list[i])\n\u001b[1;32m     14\u001b[0m optimizer\u001b[38;5;241m.\u001b[39mzero_grad()\n\u001b[0;32m---> 15\u001b[0m \u001b[43mloss\u001b[49m\u001b[38;5;241;43m.\u001b[39;49m\u001b[43mbackward\u001b[49m\u001b[43m(\u001b[49m\u001b[43m)\u001b[49m\n\u001b[1;32m     16\u001b[0m optimizer\u001b[38;5;241m.\u001b[39mstep()\n\u001b[1;32m     17\u001b[0m total_loss \u001b[38;5;241m+\u001b[39m\u001b[38;5;241m=\u001b[39m loss\u001b[38;5;241m.\u001b[39mitem()\n",
      "File \u001b[0;32m/opt/anaconda3/envs/myenv/lib/python3.10/site-packages/torch/_tensor.py:581\u001b[0m, in \u001b[0;36mTensor.backward\u001b[0;34m(self, gradient, retain_graph, create_graph, inputs)\u001b[0m\n\u001b[1;32m    571\u001b[0m \u001b[38;5;28;01mif\u001b[39;00m has_torch_function_unary(\u001b[38;5;28mself\u001b[39m):\n\u001b[1;32m    572\u001b[0m     \u001b[38;5;28;01mreturn\u001b[39;00m handle_torch_function(\n\u001b[1;32m    573\u001b[0m         Tensor\u001b[38;5;241m.\u001b[39mbackward,\n\u001b[1;32m    574\u001b[0m         (\u001b[38;5;28mself\u001b[39m,),\n\u001b[0;32m   (...)\u001b[0m\n\u001b[1;32m    579\u001b[0m         inputs\u001b[38;5;241m=\u001b[39minputs,\n\u001b[1;32m    580\u001b[0m     )\n\u001b[0;32m--> 581\u001b[0m \u001b[43mtorch\u001b[49m\u001b[38;5;241;43m.\u001b[39;49m\u001b[43mautograd\u001b[49m\u001b[38;5;241;43m.\u001b[39;49m\u001b[43mbackward\u001b[49m\u001b[43m(\u001b[49m\n\u001b[1;32m    582\u001b[0m \u001b[43m    \u001b[49m\u001b[38;5;28;43mself\u001b[39;49m\u001b[43m,\u001b[49m\u001b[43m \u001b[49m\u001b[43mgradient\u001b[49m\u001b[43m,\u001b[49m\u001b[43m \u001b[49m\u001b[43mretain_graph\u001b[49m\u001b[43m,\u001b[49m\u001b[43m \u001b[49m\u001b[43mcreate_graph\u001b[49m\u001b[43m,\u001b[49m\u001b[43m \u001b[49m\u001b[43minputs\u001b[49m\u001b[38;5;241;43m=\u001b[39;49m\u001b[43minputs\u001b[49m\n\u001b[1;32m    583\u001b[0m \u001b[43m\u001b[49m\u001b[43m)\u001b[49m\n",
      "File \u001b[0;32m/opt/anaconda3/envs/myenv/lib/python3.10/site-packages/torch/autograd/__init__.py:347\u001b[0m, in \u001b[0;36mbackward\u001b[0;34m(tensors, grad_tensors, retain_graph, create_graph, grad_variables, inputs)\u001b[0m\n\u001b[1;32m    342\u001b[0m     retain_graph \u001b[38;5;241m=\u001b[39m create_graph\n\u001b[1;32m    344\u001b[0m \u001b[38;5;66;03m# The reason we repeat the same comment below is that\u001b[39;00m\n\u001b[1;32m    345\u001b[0m \u001b[38;5;66;03m# some Python versions print out the first line of a multi-line function\u001b[39;00m\n\u001b[1;32m    346\u001b[0m \u001b[38;5;66;03m# calls in the traceback and some print out the last line\u001b[39;00m\n\u001b[0;32m--> 347\u001b[0m \u001b[43m_engine_run_backward\u001b[49m\u001b[43m(\u001b[49m\n\u001b[1;32m    348\u001b[0m \u001b[43m    \u001b[49m\u001b[43mtensors\u001b[49m\u001b[43m,\u001b[49m\n\u001b[1;32m    349\u001b[0m \u001b[43m    \u001b[49m\u001b[43mgrad_tensors_\u001b[49m\u001b[43m,\u001b[49m\n\u001b[1;32m    350\u001b[0m \u001b[43m    \u001b[49m\u001b[43mretain_graph\u001b[49m\u001b[43m,\u001b[49m\n\u001b[1;32m    351\u001b[0m \u001b[43m    \u001b[49m\u001b[43mcreate_graph\u001b[49m\u001b[43m,\u001b[49m\n\u001b[1;32m    352\u001b[0m \u001b[43m    \u001b[49m\u001b[43minputs\u001b[49m\u001b[43m,\u001b[49m\n\u001b[1;32m    353\u001b[0m \u001b[43m    \u001b[49m\u001b[43mallow_unreachable\u001b[49m\u001b[38;5;241;43m=\u001b[39;49m\u001b[38;5;28;43;01mTrue\u001b[39;49;00m\u001b[43m,\u001b[49m\n\u001b[1;32m    354\u001b[0m \u001b[43m    \u001b[49m\u001b[43maccumulate_grad\u001b[49m\u001b[38;5;241;43m=\u001b[39;49m\u001b[38;5;28;43;01mTrue\u001b[39;49;00m\u001b[43m,\u001b[49m\n\u001b[1;32m    355\u001b[0m \u001b[43m\u001b[49m\u001b[43m)\u001b[49m\n",
      "File \u001b[0;32m/opt/anaconda3/envs/myenv/lib/python3.10/site-packages/torch/autograd/graph.py:825\u001b[0m, in \u001b[0;36m_engine_run_backward\u001b[0;34m(t_outputs, *args, **kwargs)\u001b[0m\n\u001b[1;32m    823\u001b[0m     unregister_hooks \u001b[38;5;241m=\u001b[39m _register_logging_hooks_on_whole_graph(t_outputs)\n\u001b[1;32m    824\u001b[0m \u001b[38;5;28;01mtry\u001b[39;00m:\n\u001b[0;32m--> 825\u001b[0m     \u001b[38;5;28;01mreturn\u001b[39;00m \u001b[43mVariable\u001b[49m\u001b[38;5;241;43m.\u001b[39;49m\u001b[43m_execution_engine\u001b[49m\u001b[38;5;241;43m.\u001b[39;49m\u001b[43mrun_backward\u001b[49m\u001b[43m(\u001b[49m\u001b[43m  \u001b[49m\u001b[38;5;66;43;03m# Calls into the C++ engine to run the backward pass\u001b[39;49;00m\n\u001b[1;32m    826\u001b[0m \u001b[43m        \u001b[49m\u001b[43mt_outputs\u001b[49m\u001b[43m,\u001b[49m\u001b[43m \u001b[49m\u001b[38;5;241;43m*\u001b[39;49m\u001b[43margs\u001b[49m\u001b[43m,\u001b[49m\u001b[43m \u001b[49m\u001b[38;5;241;43m*\u001b[39;49m\u001b[38;5;241;43m*\u001b[39;49m\u001b[43mkwargs\u001b[49m\n\u001b[1;32m    827\u001b[0m \u001b[43m    \u001b[49m\u001b[43m)\u001b[49m  \u001b[38;5;66;03m# Calls into the C++ engine to run the backward pass\u001b[39;00m\n\u001b[1;32m    828\u001b[0m \u001b[38;5;28;01mfinally\u001b[39;00m:\n\u001b[1;32m    829\u001b[0m     \u001b[38;5;28;01mif\u001b[39;00m attach_logging_hooks:\n",
      "\u001b[0;31mRuntimeError\u001b[0m: one of the variables needed for gradient computation has been modified by an inplace operation: [MPSFloatType [10, 36]] is at version 18752; expected version 18751 instead. Hint: enable anomaly detection to find the operation that failed to compute its gradient, with torch.autograd.set_detect_anomaly(True)."
     ]
    }
   ],
   "source": [
    "import time\n",
    "from tqdm import tqdm\n",
    "start = time.time()\n",
    "for epoch in range(num_epochs):\n",
    "    pbar = tqdm(train_loader, desc=f\"Epoch {epoch+1}/{num_epochs}\")\n",
    "    total_loss = 0\n",
    "    lenet.train()\n",
    "    i = 0 \n",
    "    for data,label in pbar:\n",
    "        i = i + 1\n",
    "        data,label = data.to(torch.bfloat16).to(device),label.to(device)\n",
    "        y_pred = lenet.forward(data)\n",
    "        loss = criterion(y_pred,label_list[i])\n",
    "        optimizer.zero_grad()\n",
    "        loss.backward()\n",
    "        optimizer.step()\n",
    "        total_loss += loss.item()\n",
    "        pbar.set_postfix({'loss': f'{loss.item():.4f}'})\n",
    "    avg_loss = total_loss / len(train_loader)\n",
    "    print(f\"Epoch {epoch+1}/{num_epochs}, Average Loss: {avg_loss:.4f}\")\n",
    "\n",
    "print(f\"Total training time: {(time.time() - start) / 60:.2f} minutes\")"
   ]
  },
  {
   "cell_type": "code",
   "execution_count": null,
   "id": "3e37ae62",
   "metadata": {},
   "outputs": [],
   "source": []
  }
 ],
 "metadata": {
  "kernelspec": {
   "display_name": "Python 3 (ipykernel)",
   "language": "python",
   "name": "python3"
  },
  "language_info": {
   "codemirror_mode": {
    "name": "ipython",
    "version": 3
   },
   "file_extension": ".py",
   "mimetype": "text/x-python",
   "name": "python",
   "nbconvert_exporter": "python",
   "pygments_lexer": "ipython3",
   "version": "3.10.15"
  }
 },
 "nbformat": 4,
 "nbformat_minor": 5
}
