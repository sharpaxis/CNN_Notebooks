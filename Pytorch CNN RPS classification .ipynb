{
 "cells": [
  {
   "cell_type": "code",
   "execution_count": 1,
   "id": "b11718b2",
   "metadata": {},
   "outputs": [],
   "source": [
    "import numpy as np\n",
    "import pandas as pd\n",
    "import seaborn as sns\n",
    "import matplotlib.pyplot as plt"
   ]
  },
  {
   "cell_type": "code",
   "execution_count": 2,
   "id": "ff294f21",
   "metadata": {},
   "outputs": [],
   "source": [
    "import torch\n",
    "import torch.nn as nn\n",
    "import torch.nn.functional as F\n",
    "from torch.utils.data import DataLoader,Dataset\n",
    "from torchvision.utils import make_grid\n",
    "from torchvision import datasets,transforms\n",
    "import os\n",
    "from IPython.display import display\n",
    "from PIL import Image\n",
    "device = torch.device(\"mps\")"
   ]
  },
  {
   "cell_type": "code",
   "execution_count": 3,
   "id": "bea83d48",
   "metadata": {},
   "outputs": [],
   "source": [
    "#rock paper scissors classification\n",
    "root = '/Users/aadityajoshi/Downloads/archive-15/rps/rps'\n",
    "test_root = '/Users/aadityajoshi/Downloads/archive-15/rps-test-set/rps-test-set'"
   ]
  },
  {
   "cell_type": "code",
   "execution_count": 4,
   "id": "8a8cfa22",
   "metadata": {},
   "outputs": [],
   "source": [
    "img_names = []\n",
    "for folder,subfolder,filenames in os.walk(root):\n",
    "    for img in filenames:\n",
    "        img_names.append(folder+'/'+img)"
   ]
  },
  {
   "cell_type": "code",
   "execution_count": 5,
   "id": "bf14e000",
   "metadata": {},
   "outputs": [
    {
     "data": {
      "image/png": "[encoded data removed]",
      "text/plain": [
       "<PIL.Image.Image image mode=RGBA size=128x128>"
      ]
     },
     "metadata": {},
     "output_type": "display_data"
    }
   ],
   "source": [
    "with Image.open('/Users/aadityajoshi/Downloads/archive-15/rps/rps/rock/rock01-047.png') as img:\n",
    "    centr_trn = transforms.CenterCrop(128)\n",
    "    resize = transforms.Resize((128,128))\n",
    "    img = resize(img)\n",
    "    img = centr_trn(img)\n",
    "    display(img)"
   ]
  },
  {
   "cell_type": "code",
   "execution_count": 6,
   "id": "10d060ba",
   "metadata": {},
   "outputs": [],
   "source": [
    "img_sizes = []\n",
    "rejected = []\n",
    "\n",
    "for item in img_names:\n",
    "    try : \n",
    "        with Image.open(item) as img:\n",
    "            img_sizes.append(img.size)\n",
    "    except:\n",
    "        rejected.append(item)\n",
    "df = pd.DataFrame(img_sizes)"
   ]
  },
  {
   "cell_type": "code",
   "execution_count": 7,
   "id": "5a9bdc1c",
   "metadata": {},
   "outputs": [
    {
     "data": {
      "text/plain": [
       "[]"
      ]
     },
     "execution_count": 7,
     "metadata": {},
     "output_type": "execute_result"
    }
   ],
   "source": [
    "rejected"
   ]
  },
  {
   "cell_type": "code",
   "execution_count": 8,
   "id": "e82ed9ff",
   "metadata": {},
   "outputs": [
    {
     "data": {
      "text/html": [
       "<div>\n",
       "<style scoped>\n",
       "    .dataframe tbody tr th:only-of-type {\n",
       "        vertical-align: middle;\n",
       "    }\n",
       "\n",
       "    .dataframe tbody tr th {\n",
       "        vertical-align: top;\n",
       "    }\n",
       "\n",
       "    .dataframe thead th {\n",
       "        text-align: right;\n",
       "    }\n",
       "</style>\n",
       "<table border=\"1\" class=\"dataframe\">\n",
       "  <thead>\n",
       "    <tr style=\"text-align: right;\">\n",
       "      <th></th>\n",
       "      <th>0</th>\n",
       "      <th>1</th>\n",
       "    </tr>\n",
       "  </thead>\n",
       "  <tbody>\n",
       "    <tr>\n",
       "      <th>count</th>\n",
       "      <td>2520.0</td>\n",
       "      <td>2520.0</td>\n",
       "    </tr>\n",
       "    <tr>\n",
       "      <th>mean</th>\n",
       "      <td>300.0</td>\n",
       "      <td>300.0</td>\n",
       "    </tr>\n",
       "    <tr>\n",
       "      <th>std</th>\n",
       "      <td>0.0</td>\n",
       "      <td>0.0</td>\n",
       "    </tr>\n",
       "    <tr>\n",
       "      <th>min</th>\n",
       "      <td>300.0</td>\n",
       "      <td>300.0</td>\n",
       "    </tr>\n",
       "    <tr>\n",
       "      <th>25%</th>\n",
       "      <td>300.0</td>\n",
       "      <td>300.0</td>\n",
       "    </tr>\n",
       "    <tr>\n",
       "      <th>50%</th>\n",
       "      <td>300.0</td>\n",
       "      <td>300.0</td>\n",
       "    </tr>\n",
       "    <tr>\n",
       "      <th>75%</th>\n",
       "      <td>300.0</td>\n",
       "      <td>300.0</td>\n",
       "    </tr>\n",
       "    <tr>\n",
       "      <th>max</th>\n",
       "      <td>300.0</td>\n",
       "      <td>300.0</td>\n",
       "    </tr>\n",
       "  </tbody>\n",
       "</table>\n",
       "</div>"
      ],
      "text/plain": [
       "            0       1\n",
       "count  2520.0  2520.0\n",
       "mean    300.0   300.0\n",
       "std       0.0     0.0\n",
       "min     300.0   300.0\n",
       "25%     300.0   300.0\n",
       "50%     300.0   300.0\n",
       "75%     300.0   300.0\n",
       "max     300.0   300.0"
      ]
     },
     "execution_count": 8,
     "metadata": {},
     "output_type": "execute_result"
    }
   ],
   "source": [
    "df.describe()"
   ]
  },
  {
   "cell_type": "code",
   "execution_count": 55,
   "id": "106c9ca0",
   "metadata": {},
   "outputs": [],
   "source": [
    "train_transform = transforms.Compose([\n",
    "            transforms.Resize(128),\n",
    "            transforms.CenterCrop(128),\n",
    "            transforms.RandomHorizontalFlip(0.2),\n",
    "            transforms.RandomRotation(10),\n",
    "            transforms.ToTensor(),\n",
    "            transforms.Normalize(mean=[0.485,0.456,0.406],std=[0.229,0.224,0.225])])"
   ]
  },
  {
   "cell_type": "code",
   "execution_count": 56,
   "id": "22f0573b",
   "metadata": {},
   "outputs": [],
   "source": [
    "test_transform = transforms.Compose([\n",
    "            transforms.Resize(128),\n",
    "            transforms.CenterCrop(128),\n",
    "            transforms.ToTensor(),\n",
    "            transforms.Normalize(mean=[0.485,0.456,0.406],std=[0.229,0.224,0.225])])"
   ]
  },
  {
   "cell_type": "code",
   "execution_count": 57,
   "id": "4d3ca315",
   "metadata": {},
   "outputs": [],
   "source": [
    "train_dataset = datasets.ImageFolder(root,train_transform)"
   ]
  },
  {
   "cell_type": "code",
   "execution_count": 12,
   "id": "2e416271",
   "metadata": {},
   "outputs": [
    {
     "data": {
      "text/plain": [
       "Dataset ImageFolder\n",
       "    Number of datapoints: 2520\n",
       "    Root location: /Users/aadityajoshi/Downloads/archive-15/rps/rps\n",
       "    StandardTransform\n",
       "Transform: Compose(\n",
       "               Resize(size=128, interpolation=bilinear, max_size=None, antialias=True)\n",
       "               CenterCrop(size=(128, 128))\n",
       "               RandomHorizontalFlip(p=0.2)\n",
       "               RandomRotation(degrees=[-50.0, 50.0], interpolation=nearest, expand=False, fill=0)\n",
       "               ToTensor()\n",
       "               Normalize(mean=[0.485, 0.456, 0.406], std=[0.229, 0.224, 0.225])\n",
       "           )"
      ]
     },
     "execution_count": 12,
     "metadata": {},
     "output_type": "execute_result"
    }
   ],
   "source": [
    "train_dataset"
   ]
  },
  {
   "cell_type": "code",
   "execution_count": 58,
   "id": "e2962a23",
   "metadata": {},
   "outputs": [
    {
     "name": "stdout",
     "output_type": "stream",
     "text": [
      "['paper', 'rock', 'scissors']\n"
     ]
    }
   ],
   "source": [
    "class_names = train_dataset.classes\n",
    "print(class_names)"
   ]
  },
  {
   "cell_type": "code",
   "execution_count": 59,
   "id": "384cbc27",
   "metadata": {},
   "outputs": [],
   "source": [
    "test_dataset = datasets.ImageFolder(test_root,test_transform)"
   ]
  },
  {
   "cell_type": "code",
   "execution_count": 15,
   "id": "56bf40f2",
   "metadata": {},
   "outputs": [
    {
     "data": {
      "text/plain": [
       "Dataset ImageFolder\n",
       "    Number of datapoints: 372\n",
       "    Root location: /Users/aadityajoshi/Downloads/archive-15/rps-test-set/rps-test-set\n",
       "    StandardTransform\n",
       "Transform: Compose(\n",
       "               Resize(size=128, interpolation=bilinear, max_size=None, antialias=True)\n",
       "               CenterCrop(size=(128, 128))\n",
       "               ToTensor()\n",
       "               Normalize(mean=[0.485, 0.456, 0.406], std=[0.229, 0.224, 0.225])\n",
       "           )"
      ]
     },
     "execution_count": 15,
     "metadata": {},
     "output_type": "execute_result"
    }
   ],
   "source": [
    "test_dataset"
   ]
  },
  {
   "cell_type": "code",
   "execution_count": 60,
   "id": "15abdef0",
   "metadata": {},
   "outputs": [],
   "source": [
    "class_test = test_dataset.classes"
   ]
  },
  {
   "cell_type": "code",
   "execution_count": 17,
   "id": "dbf1e4e2",
   "metadata": {},
   "outputs": [
    {
     "data": {
      "text/plain": [
       "['paper', 'rock', 'scissors']"
      ]
     },
     "execution_count": 17,
     "metadata": {},
     "output_type": "execute_result"
    }
   ],
   "source": [
    "class_test"
   ]
  },
  {
   "cell_type": "code",
   "execution_count": 61,
   "id": "9b18f437",
   "metadata": {},
   "outputs": [],
   "source": [
    "train_batch_size = 128\n",
    "test_batch_size = 512\n",
    "train_loader = DataLoader(train_dataset,train_batch_size,shuffle=True)\n",
    "test_loader = DataLoader(test_dataset,test_batch_size,shuffle=False)"
   ]
  },
  {
   "cell_type": "code",
   "execution_count": 62,
   "id": "73ca86ff",
   "metadata": {},
   "outputs": [],
   "source": [
    "for x,y in train_loader:\n",
    "    break"
   ]
  },
  {
   "cell_type": "code",
   "execution_count": 63,
   "id": "30632610",
   "metadata": {},
   "outputs": [
    {
     "data": {
      "text/plain": [
       "torch.Size([128, 3, 128, 128])"
      ]
     },
     "execution_count": 63,
     "metadata": {},
     "output_type": "execute_result"
    }
   ],
   "source": [
    "x.size()"
   ]
  },
  {
   "cell_type": "code",
   "execution_count": 21,
   "id": "decfcfb8",
   "metadata": {},
   "outputs": [
    {
     "data": {
      "text/plain": [
       "torch.Size([128])"
      ]
     },
     "execution_count": 21,
     "metadata": {},
     "output_type": "execute_result"
    }
   ],
   "source": [
    "y.size()"
   ]
  },
  {
   "cell_type": "code",
   "execution_count": 64,
   "id": "519c2480",
   "metadata": {},
   "outputs": [],
   "source": [
    "def dim_calc(n_in,w_in,h_in,f,s,p,num_filters,max_pool,ms,mf):\n",
    "    #(height,widht)\n",
    "    if type(s) == tuple: #(2,1)\n",
    "        s_h = s[0]\n",
    "        s_w = s[1]\n",
    "    else:\n",
    "        s_h,s_w = s,s\n",
    "    if type(f) == tuple:\n",
    "        f_h = f[0]\n",
    "        f_w = f[1]\n",
    "    else:\n",
    "        f_h,f_w = f,f\n",
    "    if type(p) == tuple:\n",
    "        p_h = p[0]\n",
    "        p_w = p[1]\n",
    "    else:\n",
    "        p_h,p_w = p,p\n",
    "        \n",
    "    height = ((h_in-f_h+2*p_h)//s_h)+1\n",
    "    width = ((w_in-f_w+2*p_w)//s_w)+1\n",
    "    channels = num_filters\n",
    "    if max_pool == True:\n",
    "        height = ((height-mf)//ms)+1\n",
    "        width = ((width-mf)//ms)+1\n",
    "    return (channels,height,width)"
   ]
  },
  {
   "cell_type": "code",
   "execution_count": 70,
   "id": "8b351e30",
   "metadata": {},
   "outputs": [],
   "source": [
    "class ConvNet(nn.Module):\n",
    "    def __init__(self):\n",
    "        super(ConvNet,self).__init__()\n",
    "        self.conv1 = nn.Conv2d(in_channels=3,out_channels=8,kernel_size=3,stride=1)\n",
    "        self.conv2 = nn.Conv2d(in_channels=8,out_channels=16,kernel_size=3,stride=1)\n",
    "        self.conv3 = nn.Conv2d(in_channels=16,out_channels=32,kernel_size=3,stride=1)\n",
    "        self.fc1 = nn.Linear(32*14*14,128)\n",
    "        self.fc2 = nn.Linear(128,32)\n",
    "        self.out = nn.Linear(32,3)\n",
    "    def forward(self,x):\n",
    "        x = F.relu(self.conv1(x))\n",
    "        x = F.max_pool2d(x,2,2)\n",
    "        x = F.relu(self.conv2(x))\n",
    "        x = F.max_pool2d(x,2,2)\n",
    "        x = F.relu(self.conv3(x))\n",
    "        x = F.max_pool2d(x,2,2)\n",
    "        x = x.view(-1,32*14*14)\n",
    "        x = F.relu(self.fc1(x))\n",
    "        x = F.relu(self.fc2(x))\n",
    "        x = self.out(x)\n",
    "        return F.log_softmax(x,dim=1)"
   ]
  },
  {
   "cell_type": "code",
   "execution_count": 75,
   "id": "903d8f7e",
   "metadata": {},
   "outputs": [
    {
     "name": "stdout",
     "output_type": "stream",
     "text": [
      "1:(8, 63, 63)\n",
      "2:(16, 30, 30)\n"
     ]
    }
   ],
   "source": [
    "print(f\"1:{dim_calc(3,128,128,3,1,0,8,True,2,2)}\")\n",
    "print(f\"2:{dim_calc(8,63,63,3,1,0,16,True,2,2)}\")\n"
   ]
  },
  {
   "cell_type": "code",
   "execution_count": 76,
   "id": "de9f0172",
   "metadata": {},
   "outputs": [
    {
     "data": {
      "text/plain": [
       "14400"
      ]
     },
     "execution_count": 76,
     "metadata": {},
     "output_type": "execute_result"
    }
   ],
   "source": [
    "16*30*30"
   ]
  },
  {
   "cell_type": "code",
   "execution_count": 71,
   "id": "45cb62d8",
   "metadata": {},
   "outputs": [],
   "source": [
    "cnn = ConvNet().to(device)"
   ]
  },
  {
   "cell_type": "code",
   "execution_count": 72,
   "id": "3f7d90f2",
   "metadata": {},
   "outputs": [],
   "source": [
    "num_epochs = 15\n",
    "optimizer = torch.optim.Adam(cnn.parameters(),lr=0.001)\n",
    "criterion = nn.CrossEntropyLoss()"
   ]
  },
  {
   "cell_type": "code",
   "execution_count": 73,
   "id": "1c9e7395",
   "metadata": {},
   "outputs": [
    {
     "name": "stderr",
     "output_type": "stream",
     "text": [
      "Epoch 1/15: 100%|██████████████████| 20/20 [00:08<00:00,  2.26it/s, loss=0.6180]\n"
     ]
    },
    {
     "name": "stdout",
     "output_type": "stream",
     "text": [
      "Epoch 1/15, Average Loss: 0.9223\n"
     ]
    },
    {
     "name": "stderr",
     "output_type": "stream",
     "text": [
      "Epoch 2/15: 100%|██████████████████| 20/20 [00:08<00:00,  2.47it/s, loss=0.2192]\n"
     ]
    },
    {
     "name": "stdout",
     "output_type": "stream",
     "text": [
      "Epoch 2/15, Average Loss: 0.4277\n"
     ]
    },
    {
     "name": "stderr",
     "output_type": "stream",
     "text": [
      "Epoch 3/15: 100%|██████████████████| 20/20 [00:07<00:00,  2.74it/s, loss=0.1210]\n"
     ]
    },
    {
     "name": "stdout",
     "output_type": "stream",
     "text": [
      "Epoch 3/15, Average Loss: 0.1837\n"
     ]
    },
    {
     "name": "stderr",
     "output_type": "stream",
     "text": [
      "Epoch 4/15: 100%|██████████████████| 20/20 [00:07<00:00,  2.84it/s, loss=0.1734]\n"
     ]
    },
    {
     "name": "stdout",
     "output_type": "stream",
     "text": [
      "Epoch 4/15, Average Loss: 0.1128\n"
     ]
    },
    {
     "name": "stderr",
     "output_type": "stream",
     "text": [
      "Epoch 5/15: 100%|██████████████████| 20/20 [00:07<00:00,  2.65it/s, loss=0.0349]\n"
     ]
    },
    {
     "name": "stdout",
     "output_type": "stream",
     "text": [
      "Epoch 5/15, Average Loss: 0.0662\n"
     ]
    },
    {
     "name": "stderr",
     "output_type": "stream",
     "text": [
      "Epoch 6/15: 100%|██████████████████| 20/20 [00:07<00:00,  2.73it/s, loss=0.0390]\n"
     ]
    },
    {
     "name": "stdout",
     "output_type": "stream",
     "text": [
      "Epoch 6/15, Average Loss: 0.0478\n"
     ]
    },
    {
     "name": "stderr",
     "output_type": "stream",
     "text": [
      "Epoch 7/15: 100%|██████████████████| 20/20 [00:07<00:00,  2.85it/s, loss=0.0133]\n"
     ]
    },
    {
     "name": "stdout",
     "output_type": "stream",
     "text": [
      "Epoch 7/15, Average Loss: 0.0226\n"
     ]
    },
    {
     "name": "stderr",
     "output_type": "stream",
     "text": [
      "Epoch 8/15: 100%|██████████████████| 20/20 [00:07<00:00,  2.85it/s, loss=0.0057]\n"
     ]
    },
    {
     "name": "stdout",
     "output_type": "stream",
     "text": [
      "Epoch 8/15, Average Loss: 0.0163\n"
     ]
    },
    {
     "name": "stderr",
     "output_type": "stream",
     "text": [
      "Epoch 9/15: 100%|██████████████████| 20/20 [00:07<00:00,  2.78it/s, loss=0.0066]\n"
     ]
    },
    {
     "name": "stdout",
     "output_type": "stream",
     "text": [
      "Epoch 9/15, Average Loss: 0.0119\n"
     ]
    },
    {
     "name": "stderr",
     "output_type": "stream",
     "text": [
      "Epoch 10/15: 100%|█████████████████| 20/20 [00:06<00:00,  2.86it/s, loss=0.0042]\n"
     ]
    },
    {
     "name": "stdout",
     "output_type": "stream",
     "text": [
      "Epoch 10/15, Average Loss: 0.0082\n"
     ]
    },
    {
     "name": "stderr",
     "output_type": "stream",
     "text": [
      "Epoch 11/15: 100%|█████████████████| 20/20 [00:07<00:00,  2.85it/s, loss=0.0033]\n"
     ]
    },
    {
     "name": "stdout",
     "output_type": "stream",
     "text": [
      "Epoch 11/15, Average Loss: 0.0068\n"
     ]
    },
    {
     "name": "stderr",
     "output_type": "stream",
     "text": [
      "Epoch 12/15: 100%|█████████████████| 20/20 [00:07<00:00,  2.85it/s, loss=0.0007]\n"
     ]
    },
    {
     "name": "stdout",
     "output_type": "stream",
     "text": [
      "Epoch 12/15, Average Loss: 0.0063\n"
     ]
    },
    {
     "name": "stderr",
     "output_type": "stream",
     "text": [
      "Epoch 13/15: 100%|█████████████████| 20/20 [00:07<00:00,  2.82it/s, loss=0.0034]\n"
     ]
    },
    {
     "name": "stdout",
     "output_type": "stream",
     "text": [
      "Epoch 13/15, Average Loss: 0.0055\n"
     ]
    },
    {
     "name": "stderr",
     "output_type": "stream",
     "text": [
      "Epoch 14/15: 100%|█████████████████| 20/20 [00:07<00:00,  2.85it/s, loss=0.0005]\n"
     ]
    },
    {
     "name": "stdout",
     "output_type": "stream",
     "text": [
      "Epoch 14/15, Average Loss: 0.0030\n"
     ]
    },
    {
     "name": "stderr",
     "output_type": "stream",
     "text": [
      "Epoch 15/15: 100%|█████████████████| 20/20 [00:07<00:00,  2.85it/s, loss=0.0010]"
     ]
    },
    {
     "name": "stdout",
     "output_type": "stream",
     "text": [
      "Epoch 15/15, Average Loss: 0.0034\n",
      "Total training time: 1.83 minutes\n"
     ]
    },
    {
     "name": "stderr",
     "output_type": "stream",
     "text": [
      "\n"
     ]
    }
   ],
   "source": [
    "import time\n",
    "from tqdm import tqdm\n",
    "\n",
    "start = time.time()\n",
    "for epoch in range(num_epochs):\n",
    "    cnn.train()\n",
    "    # Wrap your train_loader with tqdm\n",
    "    pbar = tqdm(train_loader, desc=f\"Epoch {epoch+1}/{num_epochs}\")\n",
    "    total_loss = 0\n",
    "    for img, label in pbar:\n",
    "        img, label = img.to(device), label.to(device)\n",
    "        y_pred = cnn(img)\n",
    "        loss = criterion(y_pred, label)\n",
    "        optimizer.zero_grad()\n",
    "        loss.backward()\n",
    "        optimizer.step()\n",
    "        \n",
    "        # Update total loss and progress bar\n",
    "        total_loss += loss.item()\n",
    "        pbar.set_postfix({'loss': f'{loss.item():.4f}'})\n",
    "    \n",
    "    # Calculate and print average loss for the epoch\n",
    "    avg_loss = total_loss / len(train_loader)\n",
    "    print(f\"Epoch {epoch+1}/{num_epochs}, Average Loss: {avg_loss:.4f}\")\n",
    "\n",
    "print(f\"Total training time: {(time.time() - start) / 60:.2f} minutes\")"
   ]
  },
  {
   "cell_type": "code",
   "execution_count": 37,
   "id": "4238eac1",
   "metadata": {},
   "outputs": [
    {
     "name": "stdout",
     "output_type": "stream",
     "text": [
      "              precision    recall  f1-score   support\n",
      "\n",
      "           0       0.95      0.92      0.93       124\n",
      "           1       0.92      0.98      0.95       124\n",
      "           2       1.00      0.98      0.99       124\n",
      "\n",
      "    accuracy                           0.96       372\n",
      "   macro avg       0.96      0.96      0.96       372\n",
      "weighted avg       0.96      0.96      0.96       372\n",
      "\n"
     ]
    }
   ],
   "source": [
    "from sklearn.metrics import classification_report\n",
    "all_preds = []\n",
    "all_labels = []\n",
    "\n",
    "cnn.eval()\n",
    "with torch.no_grad():\n",
    "    for img, label in test_loader:\n",
    "        img, label = img.to(device), label.to(device)\n",
    "        pred = cnn(img)\n",
    "        pred = torch.argmax(pred, dim=1)\n",
    "        \n",
    "        # Collect predictions and labels\n",
    "        all_preds.extend(pred.cpu().numpy())\n",
    "        all_labels.extend(label.cpu().numpy())\n",
    "\n",
    "# Now, use classification_report with the collected predictions and labels\n",
    "print(classification_report(all_labels, all_preds))"
   ]
  }
 ],
 "metadata": {
  "kernelspec": {
   "display_name": "Python 3 (ipykernel)",
   "language": "python",
   "name": "python3"
  },
  "language_info": {
   "codemirror_mode": {
    "name": "ipython",
    "version": 3
   },
   "file_extension": ".py",
   "mimetype": "text/x-python",
   "name": "python",
   "nbconvert_exporter": "python",
   "pygments_lexer": "ipython3",
   "version": "3.10.15"
  }
 },
 "nbformat": 4,
 "nbformat_minor": 5
}
